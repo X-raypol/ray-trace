{
 "cells": [
  {
   "cell_type": "code",
   "execution_count": null,
   "metadata": {},
   "outputs": [],
   "source": [
    "from nbtemplate import display_header\n",
    "display_header('ExplainBending.ipynb')"
   ]
  },
  {
   "cell_type": "markdown",
   "metadata": {},
   "source": [
    "# Why bending a grating is useful"
   ]
  },
  {
   "cell_type": "code",
   "execution_count": null,
   "metadata": {},
   "outputs": [],
   "source": [
    "import pathlib\n",
    "import numpy as np\n",
    "import matplotlib.pyplot as plt\n",
    "from marxs.optics import CATGrating, FlatDetector, OrderSelector\n",
    "from marxs.utils import generate_test_photons\n",
    "\n",
    "%matplotlib inline"
   ]
  },
  {
   "cell_type": "code",
   "execution_count": null,
   "metadata": {},
   "outputs": [],
   "source": [
    "import sys\n",
    "sys.path.append('../')\n",
    "from redsox.gratings import bend_gratings"
   ]
  },
  {
   "cell_type": "code",
   "execution_count": null,
   "metadata": {},
   "outputs": [],
   "source": [
    "cat = CATGrating(zoom=[1, 500, 500], position=[1000, 0,0 ], d=1e-4, order_selector=OrderSelector([1]))\n",
    "cat2 = CATGrating(zoom=[1, 500, 500], position=[1000, 0,0 ], d=1e-4, order_selector=OrderSelector([1]))\n",
    "\n",
    "det = FlatDetector(zoom=[1, 50, 50])"
   ]
  },
  {
   "cell_type": "code",
   "execution_count": null,
   "metadata": {},
   "outputs": [],
   "source": [
    "from transforms3d.axangles import axangle2mat\n",
    "\n",
    "def blazemat(blazeang):\n",
    "    return axangle2mat(np.array([0, 0, 1]), blazeang)\n",
    "\n",
    "catb = CATGrating(zoom=[1, 500, 500], position=[1000, 0,0 ], orientation=blazemat(-.2),\n",
    "                  d=1e-4, order_selector=OrderSelector([1]))\n",
    "catb2 = CATGrating(zoom=[1, 500, 500], position=[1000, 0,0 ], orientation=blazemat(-.2),\n",
    "                  d=1e-4, order_selector=OrderSelector([1]))"
   ]
  },
  {
   "cell_type": "code",
   "execution_count": null,
   "metadata": {},
   "outputs": [],
   "source": [
    "phot_in = generate_test_photons(10)\n",
    "angs = np.linspace(-.5, .1, 10)\n",
    "r0 = 1200\n",
    "phot_in['pos'] = np.stack([r0 * np.cos(angs), r0 * np.sin(angs), np.zeros_like(angs), np.ones_like(angs)]).T\n",
    "phot_in['dir'] = -phot_in['pos']\n",
    "phot_in['dir'][:, -1] = 0\n",
    "phot_in['dir'] = phot_in['dir'] / np.linalg.norm(phot_in['dir'], axis=1)[:, None]"
   ]
  },
  {
   "cell_type": "code",
   "execution_count": null,
   "metadata": {},
   "outputs": [],
   "source": [
    "cat2.elements = []  # Because the bending function expects sub-elements which we don't need here\n",
    "bend_gratings([cat2], 1000)"
   ]
  },
  {
   "cell_type": "code",
   "execution_count": null,
   "metadata": {},
   "outputs": [],
   "source": [
    "catb2.elements = []  # Because the bending function expects sub-elements which we don't need here\n",
    "bend_gratings([catb2], 1000)"
   ]
  },
  {
   "cell_type": "code",
   "execution_count": null,
   "metadata": {},
   "outputs": [],
   "source": [
    "fig, axes = plt.subplots(subplot_kw={'aspect':'equal'}, ncols=2)\n",
    "for ax in axes:\n",
    "    rays = ax.plot(np.stack([phot_in['pos'][:, 1], np.zeros(10)]),\n",
    "               np.stack([phot_in['pos'][:, 0], np.zeros(10)]), \n",
    "               'k')\n",
    "out = np.stack([cat.geometry['center'] + cat.geometry['v_y'], cat.geometry['center'] - cat.geometry['v_y']])\n",
    "axes[0].plot(out[:, 1], out[:, 0], lw=3)\n",
    "out = cat2.geometry.parametric_surface(z=[0])\n",
    "axes[0].plot(out[:, 0, 1], out[:, 0, 0], lw=3)\n",
    "\n",
    "out = np.stack([catb.geometry['center'] + catb.geometry['v_y'], catb.geometry['center'] - catb.geometry['v_y']])\n",
    "axes[1].plot(out[:, 1], out[:, 0], lw=3)\n",
    "out = catb2.geometry.parametric_surface(z=[0])\n",
    "axes[1].plot(out[:, 0, 1], out[:, 0, 0], lw=3)\n",
    "axes[0].set_title('no blaze')\n",
    "out = axes[1].set_title('blaze angle')\n",
    "\n",
    "for ax in axes:\n",
    "    ax.set(yticklabels=[], xticklabels=[])  # remove the tick labels\n",
    "    ax.tick_params(left=False, bottom=False)  # remove the ticks\n",
    "\n",
    "pathlib.Path('../figures/explainbending.pdf').mkdir(parents=True, exist_ok=True)\n",
    "fig.savefig('../figures/explainbending.pdf', bbox_inches='tight')"
   ]
  },
  {
   "cell_type": "markdown",
   "metadata": {},
   "source": [
    "In a converging beam (black rays) the angle between the grating normal and the rays changes with grating position for a flat grating (blue). Bending the grating can compensate for this problem (orange) for gratings that are small compared to the radius. This is true for gratings where the ray through the grating center is normal to the grating (left) and for gratings with a design blaze angle (right).\n",
    "\n",
    "In a CAT (critical angle transmission) grating, the diffraction efficiency (the probability that a diffracted photon ends up in a specific order) depends on the blaze angle (the angle between the grating normal and the incoming photon). For CAT gratings, the most likely diffraction angle is about twice the blaze angle. In our design, only the photons in first order are matched to the peak reflectivity of the multi-layer mirror, while photons at higher orders will not hit a detector. Thus, it is imperative to optimize the number photons diffracted into first order. To achive this, the gratings are blazed by design, such that photons have a blaze angle about 0.8 degrees. Holding this blaze angle over the entire surface of a grating in a converging photon beam requires the grating to be bend. To first order, the grating can be rolled up on a cylindrcal surface (right). In practice, radii and blaze angles are much smaller than shown here, so that this approximation is valid. The figure on the right has an extremely large grating compared to the distance from the focal point and we can thus see that in this case, the blaze angle changes from left to right, although to a lesser degree than for the flat grating."
   ]
  },
  {
   "cell_type": "code",
   "execution_count": null,
   "metadata": {},
   "outputs": [],
   "source": [
    "fig, ax = plt.subplots(subplot_kw={'aspect':'equal'})\n",
    "rays = ax.plot(np.stack([phot_in['pos'][:, 1], np.zeros(10)]),\n",
    "               np.stack([phot_in['pos'][:, 0], np.zeros(10)]), \n",
    "               'k')\n",
    "out = np.stack([cat.geometry['center'] + cat.geometry['v_y'], cat.geometry['center'] - cat.geometry['v_y']])\n",
    "ax.plot(out[:, 1], out[:, 0], lw=3)\n",
    "out = cat2.geometry.parametric_surface(z=[0])\n",
    "ax.plot(out[:, 0, 1], out[:, 0, 0], lw=3)\n",
    "\n",
    "ax.set(yticklabels=[], xticklabels=[])  # remove the tick labels\n",
    "ax.tick_params(left=False, bottom=False)  # remove the ticks\n",
    "\n",
    "\n",
    "fig.savefig('../figures/explainbending_1.pdf', bbox_inches='tight')"
   ]
  }
 ],
 "metadata": {
  "kernelspec": {
   "display_name": "Python 3",
   "language": "python",
   "name": "python3"
  },
  "language_info": {
   "codemirror_mode": {
    "name": "ipython",
    "version": 3
   },
   "file_extension": ".py",
   "mimetype": "text/x-python",
   "name": "python",
   "nbconvert_exporter": "python",
   "pygments_lexer": "ipython3",
   "version": "3.7.7"
  }
 },
 "nbformat": 4,
 "nbformat_minor": 4
}
