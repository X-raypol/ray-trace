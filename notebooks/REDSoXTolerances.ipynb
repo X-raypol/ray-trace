{
 "cells": [
  {
   "cell_type": "markdown",
   "metadata": {},
   "source": [
    "# Alignment tolerance"
   ]
  },
  {
   "cell_type": "code",
   "execution_count": null,
   "metadata": {},
   "outputs": [],
   "source": [
    "import os\n",
    "import numpy as np\n",
    "import matplotlib.pyplot as plt\n",
    "from astropy.table import Table\n",
    "import astropy.units as u\n",
    "\n",
    "%matplotlib inline"
   ]
  },
  {
   "cell_type": "code",
   "execution_count": null,
   "metadata": {},
   "outputs": [],
   "source": [
    "datpath = '/melkor/d1/guenther/processing/redsox/'"
   ]
  },
  {
   "cell_type": "code",
   "execution_count": null,
   "metadata": {},
   "outputs": [],
   "source": [
    "import sys\n",
    "sys.path.append('..')\n",
    "from redsox.mirror import Ageom"
   ]
  },
  {
   "cell_type": "code",
   "execution_count": null,
   "metadata": {},
   "outputs": [],
   "source": [
    "from marxs.design.tolerancing import select_1dof_changed\n",
    "\n",
    "def plot_wiggle(tab, par, parlist, ax, axt=None,\n",
    "                modfac='mod_mean', Aeff_col='Aeff_channel',\n",
    "                axes_facecolor='w', MDP=False):\n",
    "    '''Plotting function for overview plot wiggeling 1 dof at the time.\n",
    "\n",
    "    For parameters starting with \"d\" (e.g. \"dx\", \"dy\", \"dz\"), the plot axes\n",
    "    will be labeled as a shift, for parameters tarting with \"r\" as rotation.\n",
    "\n",
    "    Parameters\n",
    "    ----------\n",
    "    table : `astropy.table.Table`\n",
    "        Table with wiggle results\n",
    "    par : string\n",
    "        Name of parameter to be plotted\n",
    "    parlist : list of strings\n",
    "        Name of all parameters in ``table``\n",
    "    ax : `matplotlib.axes.Axes`\n",
    "        Axis object to plot into.\n",
    "    axt : ``None`` or  `matplotlib.axes.Axes`\n",
    "        If this is ``None``, twin axis are created to show resolving power\n",
    "        and effective area in one plot. Alternatively, a second axes instance\n",
    "        can be given here.\n",
    "    R_col : string\n",
    "        Column name in ``tab`` that hold the resolving power to be plotted.\n",
    "        Default is set to work with `marxs.design.tolerancing.CaptureResAeff`.\n",
    "    Aeff_col : string\n",
    "        Column name in ``tab`` that hold the effective area to be plotted.\n",
    "        Default is set to work with `marxs.design.tolerancing.CaptureResAeff`.\n",
    "    axes_facecolor : any matplotlib color specification\n",
    "        Color for the background in the plot.\n",
    "    '''\n",
    "    import matplotlib.pyplot as plt\n",
    "\n",
    "    t = select_1dof_changed(tab, par, parlist)\n",
    "    t.sort(par)\n",
    "    t_wave = t.group_by('wave')\n",
    "    if (axt is None) and not MDP:\n",
    "        axt = ax.twinx()\n",
    "\n",
    "    for key, g in zip(t_wave.groups.keys, t_wave.groups):\n",
    "        if par[0] == 'd':\n",
    "            x = g[par]\n",
    "        elif par[0] == 'r':\n",
    "            x = np.rad2deg(g[par].data)\n",
    "        else:\n",
    "            raise ValueError(\"Don't know how to plot {}. Parameter names should start with 'd' for shifts and 'r' for rotations.\".format(par))\n",
    "\n",
    "        if MDP:\n",
    "            ax.plot(x, np.abs(g['modulation'][:, 1]) * np.sqrt(g[Aeff_col]), \n",
    "                    label='{:3.1f} $\\AA$'.format(key[0]), lw=2 )\n",
    "        else:\n",
    "            ax.plot(x, np.abs(g['modulation'][:, 1]), label='{:3.1f} $\\AA$'.format(key[0]), lw=1.5)\n",
    "            axt.plot(x, Ageom.to(u.cm**2) * g[Aeff_col], ':', label='{:2.0f} $\\AA$'.format(key[0]), lw=2)\n",
    "    if MDP:\n",
    "        ax.set_ylabel('Figure of merrit')\n",
    "        axlist = [ax]\n",
    "    else:\n",
    "        ax.set_ylabel('Modulation factor (solid lines)')\n",
    "        axt.set_ylabel('$A_{eff}$ [cm$^2$] per channel (dotted lines)')\n",
    "        axlist = [ax, axt]\n",
    "        \n",
    "    if par[0] == 'd':\n",
    "        ax.set_xlabel('shift [mm]')\n",
    "        ax.set_title('Shift along {}'.format(par[1]))\n",
    "    elif par[0] == 'r':\n",
    "        ax.set_xlabel('Rotation [degree]')\n",
    "        ax.set_title('Rotation around {}'.format(par[1]))\n",
    "\n",
    "    for a in axlist:\n",
    "        a.set_facecolor(axes_facecolor)\n",
    "        a.set_axisbelow(True)\n",
    "        a.grid(axis='x', c='1.0', lw=2, ls='solid')\n",
    "\n",
    "\n",
    "\n",
    "wiggle_plot_facecolors = {'global': '0.9',\n",
    "                          'individual': (1.0, 0.9, 0.9)}\n",
    "'''Default background colors for wiggle overview plots.\n",
    "\n",
    "If the key of the dict matches part of the filename, the color listed in\n",
    "the dict is applied.\n",
    "'''\n",
    "\n",
    "def load_and_plot(filename, parlist=['dx', 'dy', 'dz', 'rx', 'ry', 'rz'], **kwargs):\n",
    "    '''Load a table with wiggle results and make default plot\n",
    "\n",
    "    This is a function to generate a quicklook image with many\n",
    "    hardcoded defaults for figure size, colors etc.\n",
    "    In particular, this function is written for the display of\n",
    "    6d plots which vary 6 degrees of freedom, one at a time.\n",
    "\n",
    "    The color for the background in the plot is set depending on the filename\n",
    "    using the ``string : color`` assignments in\n",
    "    `~marxs.design.tolerancing.wiggle_plot_facecolors`. No fancy regexp based\n",
    "    match is applied, this is simply a check with ``in``.\n",
    "\n",
    "    Parameters\n",
    "    ----------\n",
    "    filename : string\n",
    "        Path to a file with data that can be plotted by\n",
    "        `~marxs.design.tolerancing.plot_wiggle`.\n",
    "\n",
    "    parlist : list of strings\n",
    "        Name of all parameters in ``table``.\n",
    "        This function only plots six of them.\n",
    "\n",
    "    Returns\n",
    "    -------\n",
    "    tab : `astropy.table.Table`\n",
    "        Table of data read from ``filename``\n",
    "    fig : `matplotlib.figure.Figure`\n",
    "        Figure with plot.\n",
    "    kwargs :\n",
    "        All other parameters are passed to\n",
    "        `~marxs.design.tolerancing.plot_wiggle`.\n",
    "    '''\n",
    "    import matplotlib.pyplot as plt\n",
    "\n",
    "    tab = Table.read(filename)\n",
    "\n",
    "    if 'axis_facecolor' not in kwargs:\n",
    "        for n, c in wiggle_plot_facecolors.items():\n",
    "            if n in filename:\n",
    "                kwargs['axes_facecolor'] = c\n",
    "\n",
    "    fig = plt.figure(figsize=(12, 8))\n",
    "    fig.subplots_adjust(wspace=.6, hspace=.3)\n",
    "    for i, par in enumerate(parlist):\n",
    "        ax = fig.add_subplot(2, 3, i + 1)\n",
    "        plot_wiggle(tab, par, parlist, ax, **kwargs)\n",
    "\n",
    "    return tab, fig"
   ]
  },
  {
   "cell_type": "code",
   "execution_count": null,
   "metadata": {},
   "outputs": [],
   "source": [
    "tab, fig = load_and_plot(os.path.join(datpath, 'mirror_global.fits'))"
   ]
  },
  {
   "cell_type": "code",
   "execution_count": null,
   "metadata": {},
   "outputs": [],
   "source": [
    "fig, ax = plt.subplots()\n",
    "\n",
    "t = select_1dof_changed(tab, 'dy', ['dx', 'dy', 'dz', 'rx', 'ry', 'rz'])\n",
    "t.sort('dy')\n",
    "t_wave = t.group_by('wave')\n",
    "\n",
    "for key, g in zip(t_wave.groups.keys, t_wave.groups):\n",
    "    x = g['dy']\n",
    "    for i in [1]:\n",
    "        ax.plot(x, g['Aeff'][:, i], label=i, lw=2)\n",
    "ax.legend()"
   ]
  },
  {
   "cell_type": "code",
   "execution_count": null,
   "metadata": {},
   "outputs": [],
   "source": [
    "tab, fig = load_and_plot(os.path.join(datpath, 'CAT_global.fits'))"
   ]
  },
  {
   "cell_type": "code",
   "execution_count": null,
   "metadata": {},
   "outputs": [],
   "source": [
    "tab, fig = load_and_plot(os.path.join(datpath, 'CAT_individual.fits'))"
   ]
  },
  {
   "cell_type": "code",
   "execution_count": null,
   "metadata": {},
   "outputs": [],
   "source": [
    "tab, fig = load_and_plot(os.path.join(datpath, 'mlmirror_global.fits'))"
   ]
  },
  {
   "cell_type": "code",
   "execution_count": null,
   "metadata": {},
   "outputs": [],
   "source": [
    "tab, fig = load_and_plot(os.path.join(datpath, 'detector_global.fits'))"
   ]
  },
  {
   "cell_type": "code",
   "execution_count": null,
   "metadata": {},
   "outputs": [],
   "source": [
    "t = Table.read(os.path.join(datpath, 'CAT_period.fits'))\n",
    "fig = plt.figure()\n",
    "ax = fig.add_subplot(111)\n",
    "t_wave = t.group_by('wave')\n",
    "axt = ax.twinx()\n",
    "    \n",
    "for key, g in zip(t_wave.groups.keys, t_wave.groups):\n",
    "    x = g['period_sigma'] / g['period_mean']\n",
    "    ax.set_xlabel('relative change in grating period')\n",
    "    \n",
    "    ax.plot(x, np.abs(g['modulation'][:, 1]), label='{:3.1f} $\\AA$'.format(key[0]), lw=1.5)\n",
    "    axt.plot(x, Ageom.to(u.cm**2) * g['Aeff_channel'], ':', label='{:2.0f} $\\AA$'.format(key[0]), lw=2)\n",
    "    ax.set_ylabel('Modulation factor (solid lines)')\n",
    "    axt.set_ylabel('$A_{eff}$ [cm$^2$] per channel (dotted lines)')\n",
    "\n",
    "\n",
    "ax.set_facecolor((0.9, 0.9, 1.))\n",
    "ax.set_axisbelow(True)\n",
    "ax.grid(axis='x', c='1.0', lw=2, ls='solid')\n",
    "ax.legend()\n",
    "ax.set_xscale(\"log\")\n",
    "ax.set_title('Variation of the grating period')\n",
    "out = ax.set_xlim([np.min(x), None])"
   ]
  },
  {
   "cell_type": "code",
   "execution_count": null,
   "metadata": {},
   "outputs": [],
   "source": [
    "tab = Table.read(os.path.join(datpath, 'scatter.fits'))\n",
    "fig = plt.figure(figsize=(12, 5))\n",
    "\n",
    "for i, par in enumerate(['inplanescatter', 'perpplanescatter']):\n",
    "    t = select_1dof_changed(tab, par, ['inplanescatter', 'perpplanescatter'])\n",
    "    ax = fig.add_subplot(1, 2, i+1)\n",
    "    t_wave = t.group_by('wave')\n",
    "    axt = ax.twinx()\n",
    "    \n",
    "    for key, g in zip(t_wave.groups.keys, t_wave.groups):\n",
    "        x = np.rad2deg(g[par])*60\n",
    "        ax.set_title(par)\n",
    "        ax.plot(x, np.abs(g['modulation'][:, 1]), label='{:3.1f} $\\AA$'.format(key[0]), lw=1.5)\n",
    "        axt.plot(x, Ageom.to(u.cm**2) * g['Aeff_channel'], ':', label='{:2.0f} $\\AA$'.format(key[0]), lw=2)\n",
    "        ax.set_ylabel('Modulation factor (solid lines)')\n",
    "        axt.set_ylabel('$A_{eff}$ [cm$^2$] per channel (dotted lines)')\n",
    "        ax.set_xlabel('Gaussian $\\sigma$ in arcmin')\n",
    "    ax.set_facecolor((0.9, 0.9, 1.))\n",
    "    ax.set_axisbelow(True)\n",
    "    ax.grid(axis='x', c='1.0', lw=2, ls='solid')\n",
    "    ax.legend()\n",
    "    out = ax.set_xlim([np.min(x), None])"
   ]
  },
  {
   "cell_type": "code",
   "execution_count": null,
   "metadata": {},
   "outputs": [],
   "source": [
    "tab = Table.read(os.path.join(datpath, 'offset_point.fits'))\n",
    "fig = plt.figure(figsize=(12, 5))\n",
    "\n",
    "for i, par in enumerate(list(set(tab['position_angle']))):\n",
    "    t = tab[tab['position_angle'] == par]\n",
    "    ax = fig.add_subplot(1, 2, i+1)\n",
    "    t_wave = t.group_by('wave')\n",
    "    axt = ax.twinx()\n",
    "    \n",
    "    for key, g in zip(t_wave.groups.keys, t_wave.groups):\n",
    "        x = g['separation']\n",
    "        ax.set_title('offset angle {}'.format(par))\n",
    "        ax.plot(x, np.abs(g['modulation'][:, 1]), label='{:3.1f} $\\AA$'.format(key[0]), lw=1.5)\n",
    "        axt.plot(x, Ageom.to(u.cm**2) * g['Aeff_channel'], ':', label='{:2.0f} $\\AA$'.format(key[0]), lw=2)\n",
    "        ax.set_ylabel('Modulation factor (solid lines)')\n",
    "        axt.set_ylabel('$A_{eff}$ [cm$^2$] per channel (dotted lines)')\n",
    "        ax.set_xlabel('offset in arcsec')\n",
    "    ax.set_facecolor((0.9, 0.9, 1.))\n",
    "    ax.set_axisbelow(True)\n",
    "    ax.grid(axis='x', c='1.0', lw=2, ls='solid')\n",
    "    ax.legend()\n",
    "    out = ax.set_xlim([np.min(x), None])"
   ]
  },
  {
   "cell_type": "markdown",
   "metadata": {},
   "source": [
    "## Repeat plots with FOM"
   ]
  },
  {
   "cell_type": "code",
   "execution_count": null,
   "metadata": {},
   "outputs": [],
   "source": [
    "tab, fig = load_and_plot(os.path.join(datpath, 'mirror_global.fits'), MDP=True)\n",
    "fig.axes[0].set_xlim([-2, 2])\n",
    "fig.axes[1].set_xlim([-2, 2])"
   ]
  },
  {
   "cell_type": "code",
   "execution_count": null,
   "metadata": {},
   "outputs": [],
   "source": [
    "tab, fig = load_and_plot(os.path.join(datpath, 'CAT_global.fits'), MDP=True)\n",
    "fig.axes[3].set_xlim([-1, 1])\n",
    "fig.axes[4].set_xlim([-1, 1])"
   ]
  },
  {
   "cell_type": "code",
   "execution_count": null,
   "metadata": {},
   "outputs": [],
   "source": [
    "tab, fig = load_and_plot(os.path.join(datpath, 'CAT_individual.fits'), MDP=True)"
   ]
  },
  {
   "cell_type": "code",
   "execution_count": null,
   "metadata": {},
   "outputs": [],
   "source": [
    "tab, fig = load_and_plot(os.path.join(datpath, 'mlmirror_global.fits'), MDP=True)\n",
    "fig.axes[0].set_xlim([-1, 1])\n",
    "fig.axes[1].set_xlim([-1, 1])\n",
    "fig.axes[3].set_xlim([-1, 1])\n",
    "fig.axes[4].set_xlim([-1, 1])"
   ]
  },
  {
   "cell_type": "code",
   "execution_count": null,
   "metadata": {},
   "outputs": [],
   "source": [
    "tab, fig = load_and_plot(os.path.join(datpath, 'detector_global.fits'), MDP=True)"
   ]
  },
  {
   "cell_type": "markdown",
   "metadata": {},
   "source": [
    "## Step 2"
   ]
  },
  {
   "cell_type": "markdown",
   "metadata": {},
   "source": [
    "Here is the alignment table. The numbers in that table are tighter than they should be in ML mirror trans y because the misalignment are applied in the global coordinate system and thus +x means something different for each mirror. I looked at the \"per channel\" results to figure this out, and it would be better to apply misalignments in local coordinates where +x means \"shift along the axis where the period changes\" as opposed to shift in the global coordinate system. Since two mirrors are involved in the calculation of the MPF, that means both x and y look tight, when really it's tight only along the direction in which the mirror is graded. Until MARXS offers that capability, this needs to be hand-checked."
   ]
  },
  {
   "cell_type": "code",
   "execution_count": null,
   "metadata": {
    "scrolled": false
   },
   "outputs": [],
   "source": [
    "from redsox.redsox import align_requirement_moritz as arm\n",
    "from astropy.table import QTable\n",
    "from astropy.units import Quantity\n",
    "\n",
    "talign = QTable([[a[4] for a in arm]], names=['alignment'])\n",
    "for i, col in enumerate(['trans x', 'trans y', 'trans z']):\n",
    "    talign[col] = Quantity([a[2][i].to(u.mm) for a in arm])\n",
    "    talign[col].format = '{:5.1f}'\n",
    "    \n",
    "for i, col in enumerate(['rot x', 'rot y', 'rot z']):\n",
    "    talign[col] = Quantity([a[2][i + 3].to(u.arcmin) for a in arm])\n",
    "    talign[col].format = '{:5.0f}'\n",
    "talign"
   ]
  },
  {
   "cell_type": "code",
   "execution_count": null,
   "metadata": {},
   "outputs": [],
   "source": [
    "talign.write(sys.stdout, format='ascii.latex')"
   ]
  },
  {
   "cell_type": "code",
   "execution_count": null,
   "metadata": {},
   "outputs": [],
   "source": [
    "tbase = Table.read(os.path.join(datpath, 'moritz_budget.fits'))"
   ]
  },
  {
   "cell_type": "code",
   "execution_count": null,
   "metadata": {},
   "outputs": [],
   "source": [
    "fig = plt.figure()\n",
    "ax = fig.add_subplot(111)\n",
    "\n",
    "waves = list(set(tbase['wave']))\n",
    "waves.sort()\n",
    "\n",
    "tbase['FOM'] = np.abs(tbase['modulation'][:, 1]) * np.sqrt(tbase['Aeff_channel'])\n",
    "\n",
    "for i, wave in enumerate(waves):\n",
    "    tw = tbase[tbase['wave'] == wave]\n",
    "    ax.hist(tw['FOM'][1:] / tw['FOM'][0], label='${:2.0f}\\;\\AA$'.format(wave), \n",
    "            histtype='stepfilled',\n",
    "            alpha=0.6, bins=np.arange(.5, 1.051, .05))\n",
    "    \n",
    "ax.set_xlabel('FOM relative to perfect alignment')\n",
    "ax.set_ylabel('Simulations')\n",
    "\n",
    "out = ax.legend()\n",
    "\n",
    "#fig.savefig(os.path.join(get_path('figures'), 'alignbudget.pdf'), bbox_inches='tight') "
   ]
  },
  {
   "cell_type": "code",
   "execution_count": null,
   "metadata": {},
   "outputs": [],
   "source": [
    "# Weight each performance with the relative number of counts expected at that wavelength.\n",
    "# It would be better to run the 100 simulations with the real input spectrum and add up, but this will do for now.\n",
    "t40 = tbase[tbase['wave'] == 40]\n",
    "t55 = tbase[tbase['wave'] == 55]\n",
    "t70 = tbase[tbase['wave'] == 70]\n",
    "FOM = 18 * t40['FOM'] + 40 * t55['FOM'] + 10 * t70['FOM']\n"
   ]
  },
  {
   "cell_type": "code",
   "execution_count": null,
   "metadata": {},
   "outputs": [],
   "source": [
    "fig, ax = plt.subplots()\n",
    "ax.hist(FOM[1:] / FOM[0], label='${:2.0f}\\;\\AA$'.format(wave), histtype='stepfilled',\n",
    "            bins=np.arange(.55, 1.051, .05))\n",
    "    \n",
    "ax.set_xlabel('FOM relative to perfect alignment')\n",
    "ax.set_ylabel('Simulations')\n",
    "fig.savefig('../prop_plots/alignment.pdf', bbox_inches='tight')"
   ]
  },
  {
   "cell_type": "code",
   "execution_count": null,
   "metadata": {},
   "outputs": [],
   "source": [
    "pwd"
   ]
  },
  {
   "cell_type": "code",
   "execution_count": null,
   "metadata": {},
   "outputs": [],
   "source": [
    "fig, ax = plt.subplots()\n",
    "ax.hist(FOM[1:] / FOM[0], label='${:2.0f}\\;\\AA$'.format(wave), histtype='stepfilled',\n",
    "            bins=np.arange(.55, 1.051, .01), cumulative=True)\n",
    "    \n",
    "ax.set_xlabel('FOM relative to perfect alignment')\n",
    "ax.set_ylabel('Simulations')\n",
    "#fig.savefig('../prop_plots/alignment_cumulative.pdf', bbox_inches='tight')"
   ]
  },
  {
   "cell_type": "code",
   "execution_count": null,
   "metadata": {},
   "outputs": [],
   "source": []
  }
 ],
 "metadata": {
  "hide_input": false,
  "kernelspec": {
   "display_name": "Python 3",
   "language": "python",
   "name": "python3"
  },
  "language_info": {
   "codemirror_mode": {
    "name": "ipython",
    "version": 3
   },
   "file_extension": ".py",
   "mimetype": "text/x-python",
   "name": "python",
   "nbconvert_exporter": "python",
   "pygments_lexer": "ipython3",
   "version": "3.7.7"
  }
 },
 "nbformat": 4,
 "nbformat_minor": 2
}
