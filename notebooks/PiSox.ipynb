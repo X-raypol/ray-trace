{
 "cells": [
  {
   "cell_type": "code",
   "execution_count": null,
   "metadata": {},
   "outputs": [],
   "source": [
    "from nbtemplate import display_header\n",
    "display_header('PiSox.ipynb')"
   ]
  },
  {
   "cell_type": "code",
   "execution_count": null,
   "metadata": {},
   "outputs": [],
   "source": [
    "from mayavi import mlab\n",
    "mlab.init_notebook('x3d', 800, 500, local=False)"
   ]
  },
  {
   "cell_type": "code",
   "execution_count": null,
   "metadata": {},
   "outputs": [],
   "source": [
    "import numpy as np\n",
    "\n",
    "from astropy.coordinates import SkyCoord\n",
    "from astropy import units as u\n",
    "from astropy.table import Table, QTable\n",
    "import marxs.visualization.mayavi\n",
    "from marxs.source import PointSource, FixedPointing\n",
    "from marxs.visualization.mayavi import plot_object, plot_rays\n",
    "from marxs import simulator\n",
    "\n",
    "import sys\n",
    "sys.path.append('../')\n",
    "from redsox.redsox import PerfectRedsox, xyz2zxy\n",
    "from redsox.pisox import PerfectPisox, conf"
   ]
  },
  {
   "cell_type": "code",
   "execution_count": null,
   "metadata": {},
   "outputs": [],
   "source": [
    "import matplotlib.pyplot as plt\n",
    "%matplotlib inline"
   ]
  },
  {
   "cell_type": "code",
   "execution_count": null,
   "metadata": {},
   "outputs": [],
   "source": [
    "instrum = PerfectPisox()\n",
    "KeepProb = simulator.KeepCol('probability')\n",
    "instrum.postprocess_steps.append(KeepProb)\n",
    "\n",
    "my_source = PointSource(coords=SkyCoord(30., 30., unit='deg'), energy=0.3 * u.keV,\n",
    "                        polarization=None,\n",
    "                        geomarea=instrum.elements[0].area)\n",
    "my_pointing = FixedPointing(coords=SkyCoord(30., 30., unit='deg'),\n",
    "                            reference_transform=xyz2zxy)\n",
    "expt = 100 * u.s\n",
    "photons = my_source.generate_photons(expt)\n",
    "photons = my_pointing(photons)\n",
    "\n",
    "photons = instrum(photons)\n"
   ]
  },
  {
   "cell_type": "markdown",
   "metadata": {},
   "source": [
    "## PiSoX: How does is look?\n",
    "In this section, I show how the PiSoX setup looks. I start with an interactive 3D view, which can be zoomed and rotated with the mouse in all supported browsers, pressing \"r\" returns the view to the initial position. See [the X3DOM documentation](https://www.x3dom.org/documentation/interaction/) for a full list of supported mouse and keyboard commands. The ray-trace setup makes some simplifications. In particular, the mirror is not modeled in 3D, but approximated by a 2D lens. In the 3D view, the position of the mirror modules is just indicated schematically by a cylinder that has the same radius as the outermost mirror surface.  \n",
    "\n",
    "This is a monochromatic simulation with photon energies of 0.3 keV. Only rays that are detected in the end are shown and rays are colored according to the grating diffraction order."
   ]
  },
  {
   "cell_type": "code",
   "execution_count": null,
   "metadata": {},
   "outputs": [],
   "source": [
    "fig = mlab.figure()\n",
    "mlab.clf()\n",
    "\n",
    "out = plot_object(instrum, viewer=fig)\n",
    "\n",
    "pos = instrum.KeepPos.format_positions()\n",
    "ind = (photons['probability'] > 1e-3) & (photons['CCD_ID'] >= 0)\n",
    "out = marxs.visualization.mayavi.plot_rays(pos[ind, :, :], scalar=photons['order'][ind], viewer=fig)\n",
    "\n",
    "\n",
    "# move camera programatically mlab.view()\n",
    "fig"
   ]
  },
  {
   "cell_type": "code",
   "execution_count": null,
   "metadata": {},
   "outputs": [],
   "source": []
  },
  {
   "cell_type": "code",
   "execution_count": null,
   "metadata": {},
   "outputs": [],
   "source": [
    "ind = photons['shell'] > 0\n",
    "plt.plot(pos[ind, 1, 0], pos[ind, 1, 1], '.')\n",
    "plt.plot(pos[~ind, 1, 0], pos[~ind, 1, 1], '.')\n",
    "plt.xlim(80, 200)\n",
    "plt.ylabel('y [mm]')\n",
    "plt.xlabel('x [mm]')"
   ]
  },
  {
   "cell_type": "markdown",
   "metadata": {},
   "source": [
    "This plot shows the position of photons on the aperture. Blue photons hit an active mirror shell, while orange photons are outside the area covered by the mirrors or hit bulk Si that the shells are made from instead of a the reflective side."
   ]
  },
  {
   "cell_type": "markdown",
   "metadata": {},
   "source": [
    "The following image shows a 3D figure again, zooming in on the focal plane."
   ]
  },
  {
   "cell_type": "code",
   "execution_count": null,
   "metadata": {},
   "outputs": [],
   "source": [
    "fig = mlab.figure()\n",
    "mlab.clf()\n",
    "\n",
    "out = plot_object(simulator.Sequence(elements=instrum.elements[-3:]), viewer=fig)\n",
    "fig"
   ]
  },
  {
   "cell_type": "markdown",
   "metadata": {},
   "source": [
    "## How might an observation look like?\n",
    "\n",
    "Since we have only a single polarimatery channel, we have to rotate the instrument on the sky to cover enough range in rotation angles to sample all possible polarization directions. In the next few plots, I show simulations with the spectrum and flux of Mk 421. I'm assuming the source is fully polarized because that way the effect of the rotation on the sky is the easiest to see. In reality, the polarization fraction is going to be $<1$ and might depend on energy. Of course, we can simulate those scenarios, too, but the point here is to show how the data works in principle, so we pick the easiest scenario.\n",
    "\n",
    "We simulate two observations with different polarization angles on the sky, which are chosen such that the first angle gives the maximal signal and the second one the minimal signal on the polarization channel. In a real observation, that angle is not known a-priory and the instrument needs to be rotated continuously or observe at at least three angels to be able to uniquely derive the polarization fration and angle from the polarization channels alone. Using the zeoths order as well, observations at two angles are sufficient. Anyway, the point here is to show a range of possible outcomes, so picking the maximal and minimal signal possible is useful for demonstration purposes."
   ]
  },
  {
   "cell_type": "code",
   "execution_count": null,
   "metadata": {},
   "outputs": [],
   "source": [
    "def evtlist2_detimage(evt, bins=100, subplotkw={'figsize': (8,3)}):\n",
    "\n",
    "    fig, axes = plt.subplots(ncols=2, **subplotkw)\n",
    "    for i in [0, 1]:\n",
    "        ind = evt['CCD_ID'] == i\n",
    "        ccd = np.histogram2d(evt['detpix_x'][ind], evt['detpix_y'][ind], weights=evt['probability'][ind], bins=bins)\n",
    "        im = axes[i].imshow(ccd[0].T, extent=(ccd[1][0], ccd[1][-1], ccd[2][0], ccd[2][-1]), origin='lower')\n",
    "        axes[i].set_title(f'CCD {i}')\n",
    "        cbar = fig.colorbar(im, ax=axes[i])\n",
    "        cbar.set_label('cts / bin')\n",
    "    return fig, axes"
   ]
  },
  {
   "cell_type": "code",
   "execution_count": null,
   "metadata": {},
   "outputs": [],
   "source": [
    "from marxs.source.source import poisson_process\n",
    "spectrum = Table.read('../inputdata/mk421_spec.txt', format='ascii.no_header',\n",
    "                      names=['wave','fluxperwave'])\n",
    "spectrum['wave'].unit = u.Angstrom\n",
    "spectrum = QTable(spectrum)\n",
    "spectrum['fluxperwave'].unit = 1 / u.cm**2 / u.s / u.Angstrom\n",
    "spectrum['fluxperbin'] = spectrum['fluxperwave'] * np.hstack([0 * u.Angstrom, np.diff(spectrum['wave'])])\n",
    "spectrum['energy'] = spectrum['wave'].to(u.keV, equivalencies=u.spectral())\n",
    "spectrum.sort('energy')\n",
    "spectrum['fluxdensity'] = spectrum['fluxperbin'] / np.hstack([0 * u.keV, np.diff(spectrum['energy'])])\n",
    "\n",
    "spectrum = spectrum[(spectrum['wave'] > 25. * u.Angstrom) & (spectrum['wave'] < 60. * u.Angstrom)]\n",
    "flux = np.sum(spectrum['fluxperbin'])\n",
    "mk421coords = SkyCoord.from_name('Mk 421')\n",
    "mk421 = PointSource(coords=mk421coords, energy=spectrum, flux=poisson_process(flux),\n",
    "                        polarization=0 * u.degree,\n",
    "                        geomarea=instrum.elements[0].area)"
   ]
  },
  {
   "cell_type": "code",
   "execution_count": null,
   "metadata": {},
   "outputs": [],
   "source": [
    "plt.plot(spectrum['energy'], spectrum['fluxdensity'])\n",
    "plt.title('Mk 421 input spectrum')\n",
    "plt.xlabel('energy [keV]')\n",
    "out = plt.ylabel('Flux [photons / s / cm$^{-2}$ / keV]')"
   ]
  },
  {
   "cell_type": "code",
   "execution_count": null,
   "metadata": {},
   "outputs": [],
   "source": [
    "pointing1 = FixedPointing(coords=mk421coords, roll=0 * u.degree, reference_transform=xyz2zxy)\n",
    "pointing2 = FixedPointing(coords=mk421coords, roll=.5 * np.pi * u.rad, reference_transform=xyz2zxy)"
   ]
  },
  {
   "cell_type": "code",
   "execution_count": null,
   "metadata": {},
   "outputs": [],
   "source": [
    "photons = mk421.generate_photons(10 * u.ks)\n",
    "p1 = pointing1(photons.copy())\n",
    "p2 = pointing2(photons.copy())\n",
    "len(photons)"
   ]
  },
  {
   "cell_type": "code",
   "execution_count": null,
   "metadata": {},
   "outputs": [],
   "source": [
    "p1 = instrum(p1)\n",
    "p2 = instrum(p2)"
   ]
  },
  {
   "cell_type": "code",
   "execution_count": null,
   "metadata": {},
   "outputs": [],
   "source": [
    "fig, axes = evtlist2_detimage(p1)"
   ]
  },
  {
   "cell_type": "code",
   "execution_count": null,
   "metadata": {},
   "outputs": [],
   "source": [
    "fig, axes = evtlist2_detimage(p2)"
   ]
  },
  {
   "cell_type": "markdown",
   "metadata": {},
   "source": [
    "The two plots above show parts of the CCD0 (which detects the zeroth order) and CCD1 (which detects the polarization signal) for the two simulations at different polarization angles. CCD0 simply shows the image of a point source. CCD1 displays two strips of data, one containing the photons from the upper part of the CAT grating stair, the other one from the lower part.\n",
    "\n",
    "Because the simulation tracks photons weights, the simulation can deliver non-integer counts. Note how the general pattern in the CCD1 images is the same, but the scales differ by about an order of magnitude in flux. On the other hand, the different rates on CCD 0 are compatible with Poisson statistics."
   ]
  },
  {
   "cell_type": "code",
   "execution_count": null,
   "metadata": {},
   "outputs": [],
   "source": [
    "# Need to baffle?\n",
    "\n",
    "for i in [0, 1]:\n",
    "    ind = p2['CCD_ID'] == i\n",
    "    plt.hist((p2['energy'][ind]).to(u.Angstrom, equivalencies=u.spectral()).value, \n",
    "             weights=p2['probability'][ind], bins=np.arange(17, 60),\n",
    "             label=f'angle 1, CCD {i}')\n",
    "    \n",
    "for i in [0, 1]:\n",
    "    ind = p1['CCD_ID'] == i\n",
    "    plt.hist((p1['energy'][ind]).to(u.Angstrom, equivalencies=u.spectral()).value, \n",
    "             weights=p1['probability'][ind], bins=np.arange(17, 60),\n",
    "             label=f'angle 2, CCD {i}', histtype='step')\n",
    "    \n",
    "plt.legend()\n",
    "ax = plt.gca()\n",
    "ax.set_yscale('log')\n",
    "ax.set_ylim(1e-2, None)\n",
    "ax.set_xlabel('wavelength [$\\AA$]')\n",
    "out = ax.set_ylabel('flux [photons / bin]')"
   ]
  },
  {
   "cell_type": "code",
   "execution_count": null,
   "metadata": {},
   "outputs": [],
   "source": [
    "p = p2\n",
    "ind = p['CCD_ID'] == 1\n",
    "plt.hist((p['energy'][ind]).to(u.Angstrom, equivalencies=u.spectral()).value, \n",
    "             weights=p['probability'][ind], bins=np.arange(17, 60),\n",
    "             label=f'angle 1, CCD {i}')\n",
    "p['probability'][ind].sum(), len(p)"
   ]
  },
  {
   "cell_type": "markdown",
   "metadata": {},
   "source": [
    "This plot shows the observed spectrum in CCD0 and CCD1. Given the limited energy resolution of the CCDs itself, the observed data won't allow the same resolution in the zeroth order that we will achive in the first order. In the plot, the different effective areas in the zeroth and first order are clearly visible. Despite observing the same source, in the zeroth order, the flux decreases with increasing wavelength, while the spectrum in the other channel is almost flat."
   ]
  },
  {
   "cell_type": "markdown",
   "metadata": {},
   "source": [
    "## How important is sky background?\n",
    "\n",
    "The simulation of the X-ray background from a model provided by Eric Miller. The model describes the Cosmic X-ray Background, composed of a soft, thermal Galactic foreground component and power-law component to account for\n",
    "unresolved AGN. The magnitude of the latter is applicable for a 1 arcmin PSF and is scales appropriately below. This model comes from Bautz+2009 (PASJ, 61, 1117) analysis of Abell 1795. \n",
    "\n",
    "'phabs' can be changed depending on the source, but this model is probably only applicale for a typical high-latitude source, and could be off for the softest energies where (e.g.) the LHB pops in with lower absorption.\n",
    "\n",
    "The bit about the Local Hot Bubble is important for energies below 0.25 keV or so, and the bit about being able to resolve out at least some point sources is important for the AGN component. \n",
    "\n",
    "The simulation below is run with the default parameters provided by Eric. The goal of the simulations is to determine how diffuse sky background influences the rate in the polarization channel. Since the signal there is dispersed source count rates can be very low, so background can potentially become important. On the other hand, the multi-layer mirror will only reflect photons coming in with a very specific combination of angle and energy, reducing the background significantly."
   ]
  },
  {
   "cell_type": "code",
   "execution_count": null,
   "metadata": {},
   "outputs": [],
   "source": [
    "from astropy.table import QTable\n",
    "bkgspectrum = QTable.read('../inputdata/eric_bkg_model.tbl', format='ascii.no_header', \n",
    "                          names=['energy', 'fluxdensity'])\n",
    "\n",
    "bkgspectrum['energy'] = bkgspectrum['energy'] * u.keV\n",
    "bkgspectrum['fluxdensity'] = bkgspectrum['fluxdensity'] / u.cm**2 / u.s / u.keV\n",
    "# Restrict to the energy range where I have parameters\n",
    "bkgspectrum = bkgspectrum[(bkgspectrum['energy'] > 0.205 * u.keV) & (bkgspectrum['energy'] < 0.729 * u.keV)]\n",
    "\n",
    "bkg_model_norm = (bkgspectrum['fluxdensity'][1:] * np.diff(bkgspectrum['energy'])).sum()"
   ]
  },
  {
   "cell_type": "code",
   "execution_count": null,
   "metadata": {},
   "outputs": [],
   "source": [
    "from marxs.source import DiskSource\n",
    "\n",
    "a_outer = 1 * u.degree\n",
    "bkg_source = DiskSource(coords=SkyCoord(30., 30., unit='deg'), a_outer = a_outer,\n",
    "                        polarization=None, energy=bkgspectrum, flux = bkg_model_norm * a_outer**2 / u.arcmin**2,\n",
    "                        geomarea=instrum.elements[0].area)\n"
   ]
  },
  {
   "cell_type": "code",
   "execution_count": null,
   "metadata": {},
   "outputs": [],
   "source": [
    "expt = 100 * u.ks\n",
    "bkg = bkg_source.generate_photons(expt)\n",
    "bkg = my_pointing(bkg)\n",
    "print('Number of rays in simulated background:', len(bkg))"
   ]
  },
  {
   "cell_type": "markdown",
   "metadata": {},
   "source": [
    "We set up a 100 ks simulation with abut 600,000 photons."
   ]
  },
  {
   "cell_type": "code",
   "execution_count": null,
   "metadata": {},
   "outputs": [],
   "source": [
    "bkg = instrum(bkg)\n",
    "\n",
    "# In the current simulation, CCD 1 gets a lot of direct hits. Presumably, we'll baffle those out,\n",
    "# so I just remove them here\n",
    "ind = bkg['CCD_ID'] == i\n",
    "ind2 = np.isfinite(bkg['mlwave_nominal'])\n",
    "\n",
    "# presumably, any direct illumination will be baffled out\n",
    "bkgbaffle = bkg[(bkg['CCD_ID']==0) | (ind & ind2)]"
   ]
  },
  {
   "cell_type": "code",
   "execution_count": null,
   "metadata": {},
   "outputs": [],
   "source": [
    "out = plt.hist((bkg['energy']).to(u.Angstrom, equivalencies=u.spectral()).value, \n",
    "             bins=np.arange(17, 60))\n",
    "plt.xlabel('wavelength [$\\AA$]')\n",
    "out = plt.ylabel('counts per bin')"
   ]
  },
  {
   "cell_type": "markdown",
   "metadata": {},
   "source": [
    "The simulated spectrum has a broad energy distribution. At shorter wavelengths, it is dominated by strong oxygen emission lines, at longer wavelength, the spectrum is smoother."
   ]
  },
  {
   "cell_type": "code",
   "execution_count": null,
   "metadata": {},
   "outputs": [],
   "source": [
    "for i in [0, 1]:\n",
    "    ind = bkgbaffle['CCD_ID'] == i\n",
    "    plt.hist((bkgbaffle['energy'][ind]).to(u.Angstrom, equivalencies=u.spectral()).value, \n",
    "             weights=bkgbaffle['probability'][ind], bins=np.arange(17, 60),\n",
    "             label=f'CCD {i}')\n",
    "plt.legend()\n",
    "ax = plt.gca()\n",
    "ax.set_yscale('log')\n",
    "ax.set_ylim(1e-3, 1e3)\n",
    "ax.set_xlabel('wavelength [Ang]')\n",
    "ax.set_ylabel('detected flux [cts / bin / 100 ks]')\n",
    "ax.set_title('Background signal over entire detector')"
   ]
  },
  {
   "cell_type": "markdown",
   "metadata": {},
   "source": [
    "Spectral distribution of detected background counts summed over the entire detector."
   ]
  },
  {
   "cell_type": "code",
   "execution_count": null,
   "metadata": {},
   "outputs": [],
   "source": [
    "fig, axes = evtlist2_detimage(bkg, bins=[1039//10, 2048//10])"
   ]
  },
  {
   "cell_type": "markdown",
   "metadata": {},
   "source": [
    "Now we need an estimate of how many of those counts are in the extraction regions. To do that, I'll look at a simulated observatons from an on-axis point source and define the extraction regions as the region on the chip that gets signal there."
   ]
  },
  {
   "cell_type": "code",
   "execution_count": null,
   "metadata": {},
   "outputs": [],
   "source": [
    "ind = p1['CCD_ID'] == 1\n",
    "p1bins = np.histogram2d(p1['detpix_x'][ind], p1['detpix_y'][ind], weights=p1['probability'][ind],\n",
    "                        bins=25)"
   ]
  },
  {
   "cell_type": "code",
   "execution_count": null,
   "metadata": {},
   "outputs": [],
   "source": [
    "out = plt.imshow(p1bins[0].T > 5, \n",
    "                 extent=(p1bins[1][0], p1bins[1][-1], p1bins[2][0], p1bins[2][-1]),\n",
    "                 origin='lower')"
   ]
  },
  {
   "cell_type": "code",
   "execution_count": null,
   "metadata": {},
   "outputs": [],
   "source": [
    "binx = p1bins[1][2] - p1bins[1][1]\n",
    "biny = p1bins[2][2] - p1bins[2][1]"
   ]
  },
  {
   "cell_type": "markdown",
   "metadata": {},
   "source": [
    "We'll use this pattern as the mask for extracting the background signal. It's a little rough around the edges and not 100% correct. For the real data analysis, we will define the extraction regions analytically. However, in the design phase the position and size of the detector might change, so it is useful to have a simple prgrammatic way to just select detector regions that contain the signal for an on-axis point source and use that region as the extraction region."
   ]
  },
  {
   "cell_type": "code",
   "execution_count": null,
   "metadata": {},
   "outputs": [],
   "source": [
    "ind = bkgbaffle['CCD_ID'] == 1\n",
    "bkgbins = np.histogram2d(bkgbaffle['detpix_x'][ind], bkgbaffle['detpix_y'][ind],\n",
    "                         weights=bkgbaffle['probability'][ind], bins=p1bins[1:])"
   ]
  },
  {
   "cell_type": "code",
   "execution_count": null,
   "metadata": {},
   "outputs": [],
   "source": [
    "# Note: limit 1e-1 is chosen by hand for now\n",
    "print('CCD1: extraction region size (pixels): {:6.0f} - total number of counts: {:6f}'.format(binx * biny * (p1bins[0].T > 1e-1).sum(),\n",
    "              (bkgbins[0] * (p1bins[0].T > 5)).sum()))"
   ]
  },
  {
   "cell_type": "code",
   "execution_count": null,
   "metadata": {},
   "outputs": [],
   "source": [
    "# What is that number of pixels in on-sky-region?\n",
    "(313434 * (0.024 * u.mm)**2 * (u.rad/1.25/u.m)**2).to(u.arcmin**2)"
   ]
  },
  {
   "cell_type": "code",
   "execution_count": null,
   "metadata": {},
   "outputs": [],
   "source": [
    "ind = p2['CCD_ID'] == 0\n",
    "p2bins = np.histogram2d(p2['detpix_x'][ind], p2['detpix_y'][ind], weights=p2['probability'][ind],\n",
    "                        bins=25)\n",
    "binx = p2bins[1][2] - p2bins[1][1]\n",
    "biny = p2bins[2][2] - p2bins[2][1]\n",
    "binx * biny * (p2bins[0].T > 1e3).sum()\n",
    "\n",
    "ind = bkgbaffle['CCD_ID'] == 0\n",
    "bkgbins = np.histogram2d(bkgbaffle['detpix_x'][ind], bkgbaffle['detpix_y'][ind],\n",
    "                         weights=bkgbaffle['probability'][ind], bins=p2bins[1:])\n",
    "\n",
    "binx * biny * (p2bins[0].T > 200).sum(), (bkgbins[0] * (p2bins[0].T > 200)).sum()\n",
    "print('CCD0: extraction region size (pixels): {:6.0f} - total number of counts: {:6f}'.format(\n",
    "                binx * biny * (p2bins[0].T > 200).sum(),\n",
    "              (bkgbins[0] * (p2bins[0].T > 200)).sum()))"
   ]
  },
  {
   "cell_type": "markdown",
   "metadata": {},
   "source": [
    "### A modulation curve for one energy\n",
    "\n",
    "In this section, I simulate a source that's 100% polarized. Then, I turn the pointing of the instrument on the sky in small steps so that we can build up the modulation curve. From this curve, the total modulation of the signal can be calcualted as $\\frac{T-B}{T + B}$, where $T$ is the maximum of the curve and $B$ is the minimum."
   ]
  },
  {
   "cell_type": "code",
   "execution_count": null,
   "metadata": {},
   "outputs": [],
   "source": [
    "e = 0.3 * u.keV\n",
    "n_photons = 2e4\n",
    "ang = np.arange(0.,  2 * np.pi, .3) * u.rad\n",
    "pol = np.zeros(len(ang))\n",
    "for i, a in enumerate(ang):\n",
    "    mysource = PointSource(coords=SkyCoord(30., 30., unit='deg'),\n",
    "                            energy=e, polarization=a)\n",
    "    photons = mysource.generate_photons(n_photons * u.s)\n",
    "    photons = my_pointing(photons)\n",
    "    photons = instrum(photons)\n",
    "    pol[i] = photons['probability'][photons['CCD_ID'] == 1].sum()"
   ]
  },
  {
   "cell_type": "code",
   "execution_count": null,
   "metadata": {},
   "outputs": [],
   "source": [
    "plt.plot(ang.to(u.deg), pol / pol.max())\n",
    "plt.xlabel('Polarization angle [deg]')\n",
    "plt.ylabel('Detected signal [arbitrary scaling]')\n",
    "plt.ylim(0, None)"
   ]
  },
  {
   "cell_type": "markdown",
   "metadata": {},
   "source": [
    "The plot shows a modulation curve. As expected, the curve is double humped with a periodicity of 180 deg. The modulation factor is close to 90%."
   ]
  },
  {
   "cell_type": "markdown",
   "metadata": {},
   "source": [
    "## Effective area and modulation factor\n",
    "\n",
    "We can now run the calculation of the effective area and the modulation over a range of wavelengths."
   ]
  },
  {
   "cell_type": "code",
   "execution_count": null,
   "metadata": {},
   "outputs": [],
   "source": [
    "# Actually, we run this simulation in an external script \n",
    "# because of how long it takes to run and read in results from a file here\n",
    "point_fixed = Table.read('../run_results/pisox/pi_aeff_mod.fits')\n",
    "\n",
    "wave = np.arange(17., 61., 1.) * u.Angstrom\n",
    "\n",
    "fig = plt.figure(figsize=(6,3))\n",
    "ax1 = fig.add_subplot(121)\n",
    "for i in [1, 0]:\n",
    "    ax1.plot(wave, point_fixed[0]['Aeff'][:, i] * instrum.elements[0].area.to(u.cm**2), \n",
    "             label=['imaging', 'spectro-\\npolarimetry'][i])\n",
    "ax1.legend()\n",
    "ax1.set_yscale('log')\n",
    "ax1.set_xlabel('wavelength [$\\AA$]')\n",
    "ax1.set_ylabel('effective area [cm$^2$]')\n",
    "ax1.set_xlim([25, 60])\n",
    "ax1.set_ylim([.1, 17])\n",
    "#ax1.xaxis.set_major_locator( MaxNLocator(nbins=5) )\n",
    "#ax1.grid()\n",
    "    \n",
    "ax2 = fig.add_subplot(122)\n",
    "ax2.plot(wave, point_fixed[0]['modulation'][:, 1])\n",
    "ax2.set_xlabel('wavelength [$\\AA$]')\n",
    "ax2.set_ylabel('modulation factor')\n",
    "ax2.set_xlim([25, 60])\n",
    "ax2.set_ylim([.7, 1])\n",
    "#ax2.xaxis.set_major_locator( MaxNLocator(nbins=5) )\n",
    "#ax2.grid()\n",
    "    \n",
    "fig.subplots_adjust(wspace=0.4)\n",
    "fig.savefig('../pisoxplots/aeff.pdf', bbox_inches='tight')\n",
    "fig.savefig('../pisoxplots/aeff.png', bbox_inches='tight')"
   ]
  },
  {
   "cell_type": "markdown",
   "metadata": {},
   "source": [
    "*left:* Effective area. CCD1 detects the polarized signal, CCD 0 the zeroth order. Because CCD 1 observed the signal of the multi-layer mirror, the effective area is much lower than in the CCD 0. \n",
    "*right:* modulation factor."
   ]
  }
 ],
 "metadata": {
  "kernelspec": {
   "display_name": "Python 3",
   "language": "python",
   "name": "python3"
  },
  "language_info": {
   "codemirror_mode": {
    "name": "ipython",
    "version": 3
   },
   "file_extension": ".py",
   "mimetype": "text/x-python",
   "name": "python",
   "nbconvert_exporter": "python",
   "pygments_lexer": "ipython3",
   "version": "3.7.7"
  }
 },
 "nbformat": 4,
 "nbformat_minor": 4
}
