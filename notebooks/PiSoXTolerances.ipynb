{
 "cells": [
  {
   "cell_type": "code",
   "execution_count": null,
   "metadata": {},
   "outputs": [],
   "source": [
    "from nbtemplate import display_header\n",
    "display_header('PiSoXTolerances.ipynb')"
   ]
  },
  {
   "cell_type": "markdown",
   "metadata": {},
   "source": [
    "# PiSoX: Error budget and alignment requirements\n",
    "\n",
    "When the physical hardware for a mission is put together, nothing is perfect. Parts and pieces will always differ slightly in form, shape, and position from the locations assigned to them in the abstract design model. Ray-tracing is one useful method to study how much such misalignments will impact the performance of the instrument and thus to develop a table of alignment requirements. The looser the requirement can be, the cheaper and faster the process is. On the other hand, if the ray-tracing shows that certain elements need to be positioned very precisely, specific alignment procedures and tests might have to be developed. \n",
    "\n",
    "In the following, we present results from PiSoX ray-tracing studies. For each alignment parameter, we study six degrees of freedom (three translantions and three roations). In practice, misalignments happen in all six degrees of freedom for all parts of the instrument at the same time. However, computational limitations prohibit us from  exhaustively exploring the full parameter space. Instead, as a first phase, we treat PiSoX as a hirachical collection of many elements (mirror shells, mirror module, CAT gratings, CAT grating assembly, all of which combine into the optics module etc.). We perform simulations for about a dozen elements and for each parameter we typically run simulations for 10-20 values. The full parameter space would thus require $20^{6 * 12} = 5 \\times 10^{93}$ simulations. Instead, as a first step, we set up a perfectly aligned instrument and then vary one parameter for one element or one group of elements (e.g. the \"x\" position of all gratings) at a time. Note that even a perfectly aligend instrument has some limitations that are inharent in the design, such as optical abberations.  We step through diffferent values for each parameter, keeping all other alignments perfect, and run a simulations with 100,000 photons for each step. We inspect the results from simulations and select a value for the accpetable misalignment in each degree of freedom, e.g. the value where the effective area of the channel degrades by no more than 10\\%. Selecting the exact value is a trade-off with engeneering concerns. In some degrees of freedom, the alignment may be easily reached by machining tolerances and thus we can chose a number that causes only a negligible degradation of performance, while in other cases, reaching a certain alignment might be very costly and thus we want to set the requirements for this parameters as loosely as possible.\n",
    "\n",
    "In many cases, the effects of different misalignments will just linearly add up, in others they may cancel each other out to some degree or combine multiplicatively. In a second step, we investigate misalignments for all parameters simulataneously, but instead of exhaustivly covering the entire parameter space, we perform simualtions only for the table of aligment requirements developed in Step 1. Assuming that misaligments are normally distributed, we draw many possible realizations of the PiSoX instrument from our alignment table. For each realization, we run a ray-trace and calculate the performance. We look at the distribution of results and decide if these fullfill the science requirements or if certain alignment values have to be tightened.\n",
    "\n",
    "For the purpose of developing the error budget, there are other design parameters that are not technically related to mechnical aligment, but impact the performce in a similar way and can be analyzed with the same ray-trace setup. One example is the pointing jitter, which describes how uncertainties in the instrument pointing on the sky degrade the instrument performance. If the pointing direction on the sky jitters with time, photons will not always arrive on-axis. This is somewhat similar to a misaligned optics module.\n",
    "\n",
    "Ray-traces are performed with the MARXS code.\n",
    "Every ray-trace has limitations. The most important one for this work is that in the current model, the PiSoX mirror is approximated by a flat, perfect lens with additional scatter, instead of a true, 3D represenation of the mirror surface. While the scatter is tuned to give a PSF of the correct size in the focal plane, the shape of the PSF differs from what a single parabolic mirror will give, particularly for off-axis source."
   ]
  },
  {
   "cell_type": "code",
   "execution_count": null,
   "metadata": {},
   "outputs": [],
   "source": [
    "import os\n",
    "import numpy as np\n",
    "import matplotlib.pyplot as plt\n",
    "from astropy.table import Table\n",
    "import astropy.units as u\n",
    "from marxs.design.tolerancing import select_1dof_changed\n",
    "\n",
    "%matplotlib inline"
   ]
  },
  {
   "cell_type": "code",
   "execution_count": null,
   "metadata": {},
   "outputs": [],
   "source": [
    "datpath = '../run_results/pisox/'"
   ]
  },
  {
   "cell_type": "code",
   "execution_count": null,
   "metadata": {},
   "outputs": [],
   "source": [
    "import sys\n",
    "sys.path.append('..')\n",
    "from redsox.tolerances import plot_wiggle, load_and_plot"
   ]
  },
  {
   "cell_type": "markdown",
   "metadata": {},
   "source": [
    "## Step 1\n",
    "\n",
    "In this section, we run simulations varying one degree of freedom at a time and present results in three different kinds of plots: First, there are parameters that are not mechanical misalignments, such as the pointing jitter. Figures showing the results of these simulations have a blue background. Simulations for mechanical misalignments come in two flavors. Either an entire set of objects is moved determinsitically (e.g. all gratings in the grating assembly are moved 1 mm to the right) or a number of objects are moved randomly (e.g. all gratings in the grating assembly are moved along the $x$-axis, but for each grating a new number is drawn from a Gaussian distribution with $\\sigma=1$ mm). The first case is shown with a gray background, the latter case is shown with a pink background. Results for all mechnical tolerancing are shown as sets of six plots. The upper row presents results from translations along the $x$, $y$, and $z$-axis, the bottom row rotations. The center of the rotation is typically the centor of an element. If other centers are chosen, this is discussed in the text. The coordinate system for PiSoX places the optical axis along the $z$-axis with photons coming in from $z=+\\infty$. The origin of the coordinate system is at the nominal focal point of the mirror system. The dispersion direction of the gratings is along the positive $y$-axis of PiSoX. Thus, the long axis of the ML mirror is also parallel to the $y$-axis.\n",
    "\n",
    "Each plot shows different lines. Solid lines show the change of the modulation factor with changes of a parameter and correspond to the numbers on the left $y$-axis of a plot, while changes in the effective area are shown with dotted lines corresponding to the right $y$-axis of the plot. Note that the scale on each plot is chosen to highlight the relevant parameter space and can differ from plot to plot. In many cases, there is relatively little change in the predicted modulation factor and thus the range of values shown along the left $y$-axis is very small. In these cases, the line just scatters around the average value due to the Poisson error in the simulations. "
   ]
  },
  {
   "cell_type": "markdown",
   "metadata": {},
   "source": [
    "### Pointing and mirror"
   ]
  },
  {
   "cell_type": "code",
   "execution_count": null,
   "metadata": {},
   "outputs": [],
   "source": [
    "t = Table.read(os.path.join(datpath, 'jitter.fits'))\n",
    "fig = plt.figure()\n",
    "ax = fig.add_subplot(111)\n",
    "\n",
    "#t = select_1dof_changed(tab, par, ['jitter'])\n",
    "t_wave = t.group_by('wave')\n",
    "axt = ax.twinx()\n",
    "    \n",
    "for key, g in zip(t_wave.groups.keys, t_wave.groups):\n",
    "    x = g['jitter']\n",
    "    ax.set_title('Pointing jitter')\n",
    "    ax.plot(x, np.abs(g['modulation'][:, 1]), label='{:3.1f} $\\AA$'.format(key[0]), lw=1.5)\n",
    "    axt.plot(x, g['aeff'][:, 1], ':', label='{:2.0f} $\\AA$'.format(key[0]), lw=2)\n",
    "    ax.set_ylabel('Modulation factor (solid lines)')\n",
    "    axt.set_ylabel('$A_{eff}$ [cm$^2$] per channel (dotted lines)')\n",
    "    ax.set_xlabel('jitter $\\sigma$ in arcmin')\n",
    "ax.set_facecolor((0.9, 0.9, 1.))\n",
    "ax.set_axisbelow(True)\n",
    "ax.grid(axis='x', c='1.0', lw=2, ls='solid')\n",
    "out = ax.legend()"
   ]
  },
  {
   "cell_type": "markdown",
   "metadata": {},
   "source": [
    "This figure shows simulations using an unsteady pointing. The average pointing direction is on-axis, but the pointing jitters around that. For each photon, the true pointing direction is drawn from a Gaussian with the $\\sigma$ given in the figure. This jitter represents uncertainty in the pointing, which can come from different sources, such as limited resolution of the star trackers, motion of the pointing within the time period of reading out the star trackers or integetration time of the zero-order image (if used to determine the target coordinates) or the spacecraft not correcting a pointing drift fast enough.\n",
    "\n",
    "The effective area $A_{\\mathrm{eff}}$ drops with increasing jitter, because the diffracted photons do not hit the ML at the position of the Bragg peak when the target is not at a nominal position, and thus the reflectivity is lower. The drop becomes important for a jitter above a few arcminutes. Mispointing along the direction of diffraction has a much stronger effect than perpendicular to it. This is investigated in the next figure."
   ]
  },
  {
   "cell_type": "code",
   "execution_count": null,
   "metadata": {},
   "outputs": [],
   "source": [
    "tab = Table.read(os.path.join(datpath, 'offset_point.fits'))\n",
    "# \"Default\" pointing is at (30, 0)\n",
    "tab['ra_offset'] = (tab['coords'].ra - 30 * u.degree).to(u.arcmin).value\n",
    "tab['dec_offset'] = tab['coords'].dec.to(u.arcmin).value\n",
    "tab.remove_column('coords')\n",
    "fig = plt.figure(figsize=(10, 5))\n",
    "\n",
    "for i, par in enumerate(['ra_offset', 'dec_offset']):\n",
    "    t = select_1dof_changed(tab, par, ['ra_offset', 'dec_offset'])\n",
    "    ax = fig.add_subplot(1, 2, i+1)\n",
    "    t_wave = t.group_by('wave')\n",
    "    axt = ax.twinx()\n",
    "    \n",
    "    for key, g in zip(t_wave.groups.keys, t_wave.groups):\n",
    "        g.sort(par)\n",
    "        x = g[par]\n",
    "        ax.set_title({'ra_offset': 'Offset along short axis of ML',\n",
    "                     'dec_offset': 'Offset along long axis of ML'}[par])\n",
    "        ax.plot(x, np.abs(g['modulation'][:, 1]), label='{:3.1f} $\\AA$'.format(key[0]), lw=1.5)\n",
    "        axt.plot(x, g['aeff'][:, 1], ':', label='{:2.0f} $\\AA$'.format(key[0]), lw=2)\n",
    "        ax.set_ylabel('Modulation factor (solid lines)')\n",
    "        axt.set_ylabel('$A_{eff}$ [cm$^2$] per channel (dotted lines)')\n",
    "        ax.set_xlabel('offset of point source [arcmin]')\n",
    "    ax.set_facecolor((0.9, 0.9, 1.))\n",
    "    ax.set_axisbelow(True)\n",
    "    ax.grid(axis='x', c='1.0', lw=2, ls='solid')\n",
    "    ax.legend()\n",
    "    #out = ax.set_xlim([np.min(x), None])\n",
    "\n",
    "out = ax.set_xlim([-2, 2])\n",
    "fig.subplots_adjust(wspace=.5)"
   ]
  },
  {
   "cell_type": "markdown",
   "metadata": {},
   "source": [
    "The modulation factor changes only marginally when the source is observed offset from the nominal position. However, as explained for the simulations with the pointing jitter above, the effective area drops dramatically when the source  moves along the axis of the ML, because that means that photons will no longer arrive at the position where the spacing of the ML matches the required number given the angle and wavelength of the photon. Because photons with a longer wavelength are more dispersed, they are more effected."
   ]
  },
  {
   "cell_type": "code",
   "execution_count": null,
   "metadata": {},
   "outputs": [],
   "source": [
    "tab = Table.read(os.path.join(datpath, 'scatter.fits'))\n",
    "fig = plt.figure(figsize=(12, 5))\n",
    "\n",
    "for i, par in enumerate(['inplanescatter', 'perpplanescatter']):\n",
    "    t = select_1dof_changed(tab, par, ['inplanescatter', 'perpplanescatter'])\n",
    "    ax = fig.add_subplot(1, 2, i+1)\n",
    "    t_wave = t.group_by('wave')\n",
    "    axt = ax.twinx()\n",
    "    \n",
    "    for key, g in zip(t_wave.groups.keys, t_wave.groups):\n",
    "        x = np.rad2deg(g[par])*60\n",
    "        ax.set_title(par)\n",
    "        ax.plot(x, np.abs(g['modulation'][:, 1]), label='{:3.1f} $\\AA$'.format(key[0]), lw=1.5)\n",
    "        axt.plot(x, g['aeff'][:, 1], ':', label='{:2.0f} $\\AA$'.format(key[0]), lw=2)\n",
    "        ax.set_ylabel('Modulation factor (solid lines)')\n",
    "        axt.set_ylabel('$A_{eff}$ [cm$^2$] per channel (dotted lines)')\n",
    "        ax.set_xlabel('Gaussian $\\sigma$ in arcmin')\n",
    "    ax.set_facecolor((0.9, 0.9, 1.))\n",
    "    ax.set_axisbelow(True)\n",
    "    ax.grid(axis='x', c='1.0', lw=2, ls='solid')\n",
    "    ax.legend()\n",
    "    out = ax.set_xlim([np.min(x), None])\n",
    "fig.subplots_adjust(wspace=.5)"
   ]
  },
  {
   "cell_type": "markdown",
   "metadata": {},
   "source": [
    "This figure shows how the mirror scatter changes the performance of PiSoX. However, given the extreme simplicity of the currently implemented mirror model, this result should be interpreted with caution."
   ]
  },
  {
   "cell_type": "markdown",
   "metadata": {},
   "source": [
    "### CAT gratings"
   ]
  },
  {
   "cell_type": "code",
   "execution_count": null,
   "metadata": {},
   "outputs": [],
   "source": [
    "tab, fig = load_and_plot(os.path.join(datpath, 'CAT_global.fits'))\n",
    "fig.subplots_adjust(wspace=.7)"
   ]
  },
  {
   "cell_type": "markdown",
   "metadata": {},
   "source": [
    "This figure shows simulations that move the CAT grating modules as a whole, i.e. translation in $z$ means that all gratings of both sectors are moved up or down together. This particular case changes the distance between the gratings and the focal plane and thus photons will hit the ML mirror on a different location. Changes of more than a few mm will cause the photons to miss the position of the Bragg peak on the ML mirror and thus reduce $A_{\\mathrm{eff}}$. The layout is insentitive to translations in $y$ (along the dispersion direction). This is the long direction of the CAT gratings and CAT gratings are tilted only ever so slightly, so that the point of intersection is essentially constant. $A_{\\mathrm{eff}}$ only begins to drop, when gratings are moved so far that some fraction of the beam no longer hit a grating. A shift along $x$ is a shift along the stair-stepped direction. Shifts along $x$ reduce $A_{\\mathrm{eff}}$ for the same reason that the layout is stair-stepped in the first place: Since photons come in at a different angle, they need to be diffracted at a different distance from the ML to hit the ML mirror at the Bragg peak.\n",
    "\n",
    "For the rotation simulations, the origin of the rotation is the point where the optical axes intersects the \"stair\" surface on which the gratings are positioned. Of all the rotations, only rotations around the $y$ direction (the dispersion axis) have limits tighter than a degree or so, because rotation around $y$ changes the $z$ position of the gratings, so the effect is similar to a translation in $z$."
   ]
  },
  {
   "cell_type": "code",
   "execution_count": null,
   "metadata": {},
   "outputs": [],
   "source": [
    "tab, fig = load_and_plot(os.path.join(datpath, 'CAT_individual.fits'))\n",
    "fig.subplots_adjust(wspace=.7)"
   ]
  },
  {
   "cell_type": "markdown",
   "metadata": {},
   "source": [
    "The figure above presents simulations where individual CAT gratings are moved with respect to their nominal position on the CAT gratings assembly, i.e. where the grating holders are not positioned correctly. All translations allow $1\\sigma$ errors of a few mm, which is much larger than the size of the holder the gratings are placed in. This is a trivial constraint. Similarly, only rotations around $x$ (the short axis of the gratings) is tighter than 2 degrees. Rotations around $x$ makes the incoming photons hit the CAT gratings at an angle different from the design blaze angle and reduce the fraction of photons that are dispersed into the first order. Since photons in other orders are not reflected from the ML mirror onto the detector, this reduces the $A_{\\mathrm{eff}}$ of the system. Longer wavelengths drop faster. To keep the loss of $A_{\\mathrm{eff}}$ below 10%, the gratings need to be positioned within 10 arcmin of the nominal rotation angle."
   ]
  },
  {
   "cell_type": "code",
   "execution_count": null,
   "metadata": {},
   "outputs": [],
   "source": [
    "t = Table.read(os.path.join(datpath, 'CAT_period.fits'))\n",
    "fig = plt.figure()\n",
    "ax = fig.add_subplot(111)\n",
    "t_wave = t.group_by('wave')\n",
    "axt = ax.twinx()\n",
    "    \n",
    "for key, g in zip(t_wave.groups.keys, t_wave.groups):\n",
    "    x = g['period_sigma'] / g['period_mean']\n",
    "    ax.set_xlabel('relative change in grating period')\n",
    "    \n",
    "    ax.plot(x, np.abs(g['modulation'][:, 1]), label='{:3.1f} $\\AA$'.format(key[0]), lw=1.5)\n",
    "    axt.plot(x, g['aeff'][:, 1], ':', label='{:2.0f} $\\AA$'.format(key[0]), lw=2)\n",
    "    ax.set_ylabel('Modulation factor (solid lines)')\n",
    "    axt.set_ylabel('$A_{eff}$ [cm$^2$] per channel (dotted lines)')\n",
    "\n",
    "\n",
    "ax.set_facecolor((0.9, 0.9, 1.))\n",
    "ax.set_axisbelow(True)\n",
    "ax.grid(axis='x', c='1.0', lw=2, ls='solid')\n",
    "ax.legend()\n",
    "ax.set_xscale(\"log\")\n",
    "ax.set_title('Variation of the grating period')\n",
    "out = ax.set_xlim([np.min(x), None])"
   ]
  },
  {
   "cell_type": "markdown",
   "metadata": {},
   "source": [
    "A change in the period of the gratings will also diffract photons to the wrong locations, but the lithography process used to manufacture the gratings gives a repeatability of the grating period that is orders of magnitude better than the PiSoX requirement."
   ]
  },
  {
   "cell_type": "markdown",
   "metadata": {},
   "source": [
    "### Multi-layer mirror"
   ]
  },
  {
   "cell_type": "code",
   "execution_count": null,
   "metadata": {},
   "outputs": [],
   "source": [
    "tab, fig = load_and_plot(os.path.join(datpath, 'LGML_global.fits'))\n",
    "axes = fig.axes\n",
    "axes[2].set_xlim(-.1, .1)\n",
    "axes[4].set_xlim(-2, 2)\n",
    "axes[8].set_xlim(-.1, .1)\n",
    "axes[10].set_xlim(-1, 1)"
   ]
  },
  {
   "cell_type": "markdown",
   "metadata": {},
   "source": [
    "As seen above, the ML is the most critical part of the alignment because photons have to hit the multilayer at the position of the Bragg peak. Because of this, shifts along the $y$ direction (the direction in which the multilayer is graded) are most sensitive and have to be aligned to better than 10 micron. However, this is for a source at nominal position. As see above, moving the source to a slightly off-axis position also changes where photons interact with the ML mirror. Thus, in practice, this alignment does not have to be performed to the 10 micron level. Instead sources can just be observed slightly off-axis to compensate for any alignment error. This requires calibrating the alignment in space by observing a source at different positions, until the signal in the polarimetry channel is maximised. In this case, the instrument can no longer rotate around the nominal axis to probe different polarization angles. Instead, it has to rotate such that the source is kept at the new position determined in the calibration. On the other hand, tolerances for the other translations are a lot more relaxed around a mm or so.\n",
    "\n",
    "Rotations around the long axis of the ML mirror ($x$ axis of the coordinate system) have a very large tolerance of a few degrees. Because the physical dimensions of the mirror are small, the point of intersection with the mirror surface does not change much and thus the photons still interact with the mirror very close to position of the Bragg peak. On the other hand, rotations around the other two axes move the mirror by a significant amount. That means that the photons travel either too far or too little and since the photons are dispersed, they will also travel to far or not far enough in $x$ direction, which causes them to miss the position of the Bragg peak and consequently reduces $A_{\\mathrm{eff}}$ significantly.\n",
    "\n",
    "\n",
    "**Move origin of the rotation to center of ML mirror.**"
   ]
  },
  {
   "cell_type": "code",
   "execution_count": null,
   "metadata": {},
   "outputs": [],
   "source": [
    "t = Table.read(os.path.join(datpath, 'LGML_gradient.fits'))\n",
    "fig = plt.figure()\n",
    "ax = fig.add_subplot(111)\n",
    "t_wave = t.group_by('wave')\n",
    "axt = ax.twinx()\n",
    "    \n",
    "for key, g in zip(t_wave.groups.keys, t_wave.groups):\n",
    "    x = g['lateral_gradient']\n",
    "    ax.set_xlabel('lateral gradient of LGML')\n",
    "    \n",
    "    ax.plot(x, np.abs(g['modulation'][:, 1]), label='{:3.1f} $\\AA$'.format(key[0]), lw=1.5)\n",
    "    axt.plot(x, g['aeff'][:, 1], ':', label='{:2.0f} $\\AA$'.format(key[0]), lw=2)\n",
    "    ax.set_ylabel('Modulation factor (solid lines)')\n",
    "    axt.set_ylabel('$A_{eff}$ [cm$^2$] per channel (dotted lines)')\n",
    "\n",
    "\n",
    "ax.set_facecolor((0.9, 0.9, 1.))\n",
    "ax.set_axisbelow(True)\n",
    "ax.grid(axis='x', c='1.0', lw=2, ls='solid')\n",
    "ax.legend()\n",
    "ax.set_xscale(\"log\")\n",
    "ax.set_title('Gradient of LGML')\n",
    "out = ax.set_xlim([np.min(x), None])"
   ]
  },
  {
   "cell_type": "markdown",
   "metadata": {},
   "source": [
    "### Detectors"
   ]
  },
  {
   "cell_type": "code",
   "execution_count": null,
   "metadata": {},
   "outputs": [],
   "source": [
    "tab, fig = load_and_plot(os.path.join(datpath, 'detector_global.fits'))\n",
    "fig.subplots_adjust(wspace=.7)"
   ]
  },
  {
   "cell_type": "markdown",
   "metadata": {},
   "source": [
    "The exact position of the detectors is not important for PiSoX as long as the signal still hits the detectors. Two effects of detector misalignment are not shown here: With increasing misalignment, the spectral resolution of the polarimetry channel will degrade slightly (not shown here), but the low signal in this channel will prevent an analysis of high-resolution spectroscopy anyway. Also, background also increases, when the extraction region size needs to be increased, but again, this effect is nigligible for any misalignment that can reasonably be expected in the focal plane."
   ]
  },
  {
   "cell_type": "markdown",
   "metadata": {},
   "source": [
    "## Repeat plots with figure of merrit (FOM)\n",
    "\n",
    "The figure of merrit for a spectro-polarimeter combines effective area and modulation into a single number. In this section, some plots are repeated to show the FOM instead of individual lines for modulation factor and effective area."
   ]
  },
  {
   "cell_type": "code",
   "execution_count": null,
   "metadata": {},
   "outputs": [],
   "source": [
    "tab, fig = load_and_plot(os.path.join(datpath, 'CAT_global.fits'), plot_type='MDP')\n",
    "fig.axes[3].set_xlim([-1, 1])\n",
    "out = fig.axes[4].set_xlim([-1, 1])\n",
    "fig.subplots_adjust(wspace=.3)"
   ]
  },
  {
   "cell_type": "code",
   "execution_count": null,
   "metadata": {},
   "outputs": [],
   "source": [
    "tab, fig = load_and_plot(os.path.join(datpath, 'CAT_individual.fits'), plot_type='MDP')\n",
    "fig.subplots_adjust(wspace=.3)"
   ]
  },
  {
   "cell_type": "code",
   "execution_count": null,
   "metadata": {},
   "outputs": [],
   "source": [
    "tab, fig = load_and_plot(os.path.join(datpath, 'LGML_global.fits'), plot_type='MDP')\n",
    "fig.axes[1].set_xlim([-.1, .1])\n",
    "fig.axes[4].set_xlim([-.1, .1])\n",
    "out = fig.axes[5].set_xlim([-1, 1])\n",
    "fig.subplots_adjust(wspace=.3)"
   ]
  },
  {
   "cell_type": "markdown",
   "metadata": {},
   "source": [
    "## Step 2: Total alignment budget\n",
    "\n",
    "To be done at a later phase."
   ]
  },
  {
   "cell_type": "markdown",
   "metadata": {},
   "source": [
    "## Plots with detailed formatting\n",
    "This section repeats a few plots from above with specfic formatting. For proposals or publications, we often need to tweak the size of labels, fonts or other formatting by hand. Some of those plots are below, based on the same data as above."
   ]
  },
  {
   "cell_type": "code",
   "execution_count": null,
   "metadata": {},
   "outputs": [],
   "source": [
    "tab = Table.read(os.path.join(datpath, 'offset_point.fits'))\n",
    "# \"Default\" pointing is at (30, 0)\n",
    "tab['ra_offset'] = (tab['coords'].ra - 30 * u.degree).to(u.arcmin)\n",
    "tab['dec_offset'] = tab['coords'].dec.to(u.arcmin)\n",
    "tab.remove_column('coords')\n",
    "\n",
    "fig, axes = plt.subplots(1, 2, sharey=True)\n",
    "# Remove horizontal space between axes\n",
    "fig.subplots_adjust(wspace=0)\n",
    "\n",
    "for i, par in enumerate(['ra_offset', 'dec_offset']):\n",
    "    t = select_1dof_changed(tab, par, ['ra_offset', 'dec_offset'])\n",
    "    t_wave = t.group_by('wave')\n",
    "    \n",
    "    for key, g in zip(t_wave.groups.keys, t_wave.groups):\n",
    "        g.sort(par)\n",
    "        x = g[par]\n",
    "        axes[i].set_title({'ra_offset': 'cross-dispersion',\n",
    "                     'dec_offset': 'dispersion'}[par])\n",
    "        axes[i].plot(x, g['aeff'][:, 1],  label='{:2.0f} $\\AA$'.format(key[0]), lw=2)\n",
    "        axes[i].set_xlabel('pointing offset [arcmin]')\n",
    "        axes[i].grid()\n",
    "axes[0].legend()\n",
    "axes[0].set_ylabel('$A_{eff}$ in polarimetry channel [cm$^2$]')\n",
    "axes[1].set_xlim(-1.5, 1.5)\n",
    "    #out = ax.set_xlim([np.min(x), None])\n",
    "axes[0].set_facecolor((0.9, 0.9, 1.))\n",
    "axes[1].set_facecolor((0.9, 0.9, 1.))\n",
    "    \n",
    "#fig.savefig('../pisoxplots/offaxis.pdf', bbox_inches='tight')\n",
    "#fig.savefig('../pisoxplots/offaxis.png', bbox_inches='tight')\n",
    "fig.savefig('/Users/hamogu/MITDropbox/my_poster/20_SPIE_Polarimetry/SPIE2020-GoPiSox/offset_point.pdf', bbox_inches='tight')\n",
    "fig.savefig('/Users/hamogu/MITDropbox/my_poster/20_SPIE_Polarimetry/offset_point.png', bbox_inches='tight', dpi=300)"
   ]
  },
  {
   "cell_type": "code",
   "execution_count": null,
   "metadata": {},
   "outputs": [],
   "source": [
    "t = Table.read(os.path.join(datpath, 'jitter.fits'))\n",
    "fig = plt.figure()\n",
    "ax = fig.add_subplot(111)\n",
    "\n",
    "#t = select_1dof_changed(tab, par, ['jitter'])\n",
    "t_wave = t.group_by('wave')\n",
    "    \n",
    "for key, g in zip(t_wave.groups.keys, t_wave.groups):\n",
    "    x = g['jitter']\n",
    "    ax.set_title('Pointing jitter')\n",
    "    ax.plot(x, g['aeff'][:, 1], label='{:2.0f} $\\AA$'.format(key[0]), lw=2)\n",
    "    ax.set_ylabel('$A_{eff}$ [cm$^2$] per channel (dotted lines)')\n",
    "    ax.set_xlabel('jitter $\\sigma$ in arcmin')\n",
    "ax.set_facecolor((0.9, 0.9, 1.))\n",
    "ax.set_axisbelow(True)\n",
    "ax.grid(axis='x', c='1.0', lw=2, ls='solid')\n",
    "out = ax.legend()\n",
    "fig.savefig('/Users/hamogu/MITDropbox/my_poster/20_SPIE_Polarimetry/SPIE2020-GoPiSox/jitter.pdf', bbox_inches='tight')"
   ]
  },
  {
   "cell_type": "code",
   "execution_count": null,
   "metadata": {},
   "outputs": [],
   "source": [
    "tab, fig = load_and_plot(os.path.join(datpath, 'CAT_global.fits'), plot_type='aeff')\n",
    "fig.subplots_adjust(wspace=.7)\n",
    "fig.savefig('/Users/hamogu/MITDropbox/my_poster/20_SPIE_Polarimetry/SPIE2020-GoPiSox/CAT_global.pdf', bbox_inches='tight')"
   ]
  },
  {
   "cell_type": "code",
   "execution_count": null,
   "metadata": {},
   "outputs": [],
   "source": [
    "tab, fig = load_and_plot(os.path.join(datpath, 'CAT_individual.fits'), plot_type='aeff')\n",
    "fig.subplots_adjust(wspace=.7)\n",
    "fig.savefig('/Users/hamogu/MITDropbox/my_poster/20_SPIE_Polarimetry/SPIE2020-GoPiSox/CAT_individual.pdf', bbox_inches='tight')"
   ]
  },
  {
   "cell_type": "code",
   "execution_count": null,
   "metadata": {},
   "outputs": [],
   "source": [
    "tab, fig = load_and_plot(os.path.join(datpath, 'LGML_global.fits'), plot_type='aeff')\n",
    "axes = fig.axes\n",
    "axes[1].set_xlim(-.1, .1)\n",
    "axes[2].set_xlim(-2, 2)\n",
    "axes[4].set_xlim(-.1, .1)\n",
    "axes[5].set_xlim(-1, 1)\n",
    "fig.savefig('/Users/hamogu/MITDropbox/my_poster/20_SPIE_Polarimetry/SPIE2020-GoPiSox/LGML_global.pdf', bbox_inches='tight')"
   ]
  },
  {
   "cell_type": "code",
   "execution_count": null,
   "metadata": {},
   "outputs": [],
   "source": [
    "t = Table.read(os.path.join(datpath, 'LGML_gradient.fits'))\n",
    "fig = plt.figure()\n",
    "ax = fig.add_subplot(111)\n",
    "t_wave = t.group_by('wave')\n",
    "    \n",
    "for key, g in zip(t_wave.groups.keys, t_wave.groups):\n",
    "    x = g['lateral_gradient'] / 1.6e-7\n",
    "    ax.set_xlabel('lateral gradient of ML mirror relative to design value')\n",
    "    ax.plot(x, g['aeff'][:, 1], label='{:2.0f} $\\AA$'.format(key[0]), lw=2)\n",
    "    ax.set_ylabel('$A_{eff}$ [cm$^2$]')\n",
    "\n",
    "\n",
    "ax.set_facecolor((0.9, 0.9, 1.))\n",
    "ax.set_axisbelow(True)\n",
    "ax.grid(axis='x', c='1.0', lw=2, ls='solid')\n",
    "ax.legend()\n",
    "#ax.set_xscale(\"log\")\n",
    "ax.set_title('Gradient of ML mirror')\n",
    "out = ax.set_xlim([np.min(x), None])\n",
    "fig.savefig('/Users/hamogu/MITDropbox/my_poster/20_SPIE_Polarimetry/SPIE2020-GoPiSox/LGML_gradient.pdf', bbox_inches='tight')"
   ]
  },
  {
   "cell_type": "code",
   "execution_count": null,
   "metadata": {},
   "outputs": [],
   "source": []
  }
 ],
 "metadata": {
  "hide_input": false,
  "kernelspec": {
   "display_name": "Python 3",
   "language": "python",
   "name": "python3"
  },
  "language_info": {
   "codemirror_mode": {
    "name": "ipython",
    "version": 3
   },
   "file_extension": ".py",
   "mimetype": "text/x-python",
   "name": "python",
   "nbconvert_exporter": "python",
   "pygments_lexer": "ipython3",
   "version": "3.7.7"
  }
 },
 "nbformat": 4,
 "nbformat_minor": 2
}
